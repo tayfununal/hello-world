{
  "nbformat": 4,
  "nbformat_minor": 0,
  "metadata": {
    "colab": {
      "name": "Untitled79.ipynb",
      "private_outputs": true,
      "provenance": [],
      "authorship_tag": "ABX9TyPe2CDnV4rtz5bHJYZUauHi",
      "include_colab_link": true
    },
    "kernelspec": {
      "name": "python3",
      "display_name": "Python 3"
    },
    "language_info": {
      "name": "python"
    }
  },
  "cells": [
    {
      "cell_type": "markdown",
      "metadata": {
        "id": "view-in-github",
        "colab_type": "text"
      },
      "source": [
        "<a href=\"https://colab.research.google.com/github/tayfununal/hello-world/blob/master/Untitled79.ipynb\" target=\"_parent\"><img src=\"https://colab.research.google.com/assets/colab-badge.svg\" alt=\"Open In Colab\"/></a>"
      ]
    },
    {
      "cell_type": "code",
      "source": [
        "import numpy as np"
      ],
      "metadata": {
        "id": "s9aQf6QZRcOW"
      },
      "execution_count": null,
      "outputs": []
    },
    {
      "cell_type": "code",
      "execution_count": null,
      "metadata": {
        "id": "-PXf2jr-RYe4"
      },
      "outputs": [],
      "source": [
        "def get_cartesian(lat=None,lon=None):\n",
        "    lat, lon = np.deg2rad(lat), np.deg2rad(lon)\n",
        "    R = 6371 # radius of the earth\n",
        "    x = R * np.cos(lat) * np.cos(lon)\n",
        "    y = R * np.cos(lat) * np.sin(lon)\n",
        "    z = R *np.sin(lat)\n",
        "    return x,y,z"
      ]
    },
    {
      "cell_type": "code",
      "source": [
        "x_1, y_1, z_1 = get_cartesian(lat=41.795584, lon=27.181056)\n",
        "\n",
        "x_2, y_2, z_2 = get_cartesian(lat=41.795528, lon=27.16903) \n",
        "\n",
        "x_3, y_3, z_3 = get_cartesian(lat=41.795584, lon=27.181056 )\n",
        "\n"
      ],
      "metadata": {
        "id": "pIdOqbVxRxVe"
      },
      "execution_count": null,
      "outputs": []
    },
    {
      "cell_type": "code",
      "source": [
        "import matplotlib.pyplot as plt"
      ],
      "metadata": {
        "id": "4ciSwzc1TJLf"
      },
      "execution_count": null,
      "outputs": []
    },
    {
      "cell_type": "code",
      "source": [
        "int('{}'.format(x_1)[-10:])"
      ],
      "metadata": {
        "id": "gtYRGGpOZmNF"
      },
      "execution_count": null,
      "outputs": []
    },
    {
      "cell_type": "code",
      "source": [
        "ax = plt.axes(projection='3d')\n",
        "\n",
        "ax.scatter([int('{}'.format(x_1)[-10:]) ,int('{}'.format(x_2)[-10:]),int('{}'.format(x_3)[-10:])],\n",
        "           [int('{}'.format(y_1)[-10:]),int('{}'.format(y_2)[-10:]),int('{}'.format(y_3)[-10:])], \n",
        "           [int('{}'.format(z_1)[-10:]),int('{}'.format(z_2)[-10:]),int('{}'.format(z_3)[-10:])], cmap='red')\n",
        "\n",
        "\n"
      ],
      "metadata": {
        "id": "ExaEhg63TaKu"
      },
      "execution_count": null,
      "outputs": []
    },
    {
      "cell_type": "code",
      "source": [
        "plt.scatter([int('{}'.format(x_1)[-5:]) ,int('{}'.format(x_2)[-5:]),int('{}'.format(x_3)[-5:])],\n",
        "           [int('{}'.format(y_1)[-5:]),int('{}'.format(y_2)[-5:]),int('{}'.format(y_3)[-5:])], c='red',s=100)"
      ],
      "metadata": {
        "id": "_mLnJIAjTfGW"
      },
      "execution_count": null,
      "outputs": []
    },
    {
      "cell_type": "code",
      "source": [
        ""
      ],
      "metadata": {
        "id": "cANaQ_t-WQRE"
      },
      "execution_count": null,
      "outputs": []
    }
  ]
}