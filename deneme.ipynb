{
  "nbformat": 4,
  "nbformat_minor": 0,
  "metadata": {
    "colab": {
      "name": "deneme.ipynb",
      "private_outputs": true,
      "provenance": [],
      "authorship_tag": "ABX9TyPig0NPWiTbDth/oeWZHMYm",
      "include_colab_link": true
    },
    "kernelspec": {
      "name": "python3",
      "display_name": "Python 3"
    },
    "language_info": {
      "name": "python"
    }
  },
  "cells": [
    {
      "cell_type": "markdown",
      "metadata": {
        "id": "view-in-github",
        "colab_type": "text"
      },
      "source": [
        "<a href=\"https://colab.research.google.com/github/tayfununal/hello-world/blob/master/deneme.ipynb\" target=\"_parent\"><img src=\"https://colab.research.google.com/assets/colab-badge.svg\" alt=\"Open In Colab\"/></a>"
      ]
    },
    {
      "cell_type": "code",
      "execution_count": null,
      "metadata": {
        "id": "1YK9ucAwltX6"
      },
      "outputs": [],
      "source": [
        "from sklearn.cluster import DBSCAN\n",
        "import numpy as np\n",
        "import matplotlib.pyplot as plt"
      ]
    },
    {
      "cell_type": "code",
      "source": [
        "toplam = 150\n",
        "a = np.random.standard_normal(toplam)\n",
        "a = np.append(a,5)\n",
        "a = np.append(a,5)\n",
        "a = np.append(a,-5)\n",
        "a = np.append(a,-5).reshape((toplam + 4,1))\n",
        "\n",
        "b = np.random.standard_normal(toplam)\n",
        "b = np.append(b,5)\n",
        "b = np.append(b,-4)\n",
        "b = np.append(b,-4)\n",
        "b = np.append(b,5).reshape((toplam + 4,1))"
      ],
      "metadata": {
        "id": "aHCYbmJjqJqv"
      },
      "execution_count": null,
      "outputs": []
    },
    {
      "cell_type": "code",
      "source": [
        "plt.scatter(a,b)"
      ],
      "metadata": {
        "id": "Jc-pSB-RsiRl"
      },
      "execution_count": null,
      "outputs": []
    },
    {
      "cell_type": "code",
      "source": [
        "X = np.concatenate((a,b), axis=1)\n",
        "clustering = DBSCAN(eps=2, min_samples=3).fit(X)"
      ],
      "metadata": {
        "id": "F5LF_EeOskwM"
      },
      "execution_count": null,
      "outputs": []
    },
    {
      "cell_type": "code",
      "source": [
        "katılımcı = X[np.where(clustering.labels_==0)]\n",
        "aykırı = X[np.where(clustering.labels_==-1)]"
      ],
      "metadata": {
        "id": "PIvINtx8vAy8"
      },
      "execution_count": null,
      "outputs": []
    },
    {
      "cell_type": "code",
      "source": [
        "plt.scatter(katılımcı[:,0], katılımcı[:,1], c=\"green\")\n",
        "plt.scatter(aykırı[:,0], aykırı[:,1], c=\"red\")"
      ],
      "metadata": {
        "id": "bbujl6IbvUyz"
      },
      "execution_count": null,
      "outputs": []
    },
    {
      "cell_type": "code",
      "source": [
        ""
      ],
      "metadata": {
        "id": "SQSvTY58wZmT"
      },
      "execution_count": null,
      "outputs": []
    }
  ]
}