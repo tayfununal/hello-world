{
  "nbformat": 4,
  "nbformat_minor": 0,
  "metadata": {
    "colab": {
      "name": "exOne.ipynb",
      "provenance": [],
      "private_outputs": true,
      "authorship_tag": "ABX9TyMsXj/y99B5fB1/e1x+4dif",
      "include_colab_link": true
    },
    "kernelspec": {
      "name": "python3",
      "display_name": "Python 3"
    }
  },
  "cells": [
    {
      "cell_type": "markdown",
      "metadata": {
        "id": "view-in-github",
        "colab_type": "text"
      },
      "source": [
        "<a href=\"https://colab.research.google.com/github/tayfununal/hello-world/blob/master/exOne.ipynb\" target=\"_parent\"><img src=\"https://colab.research.google.com/assets/colab-badge.svg\" alt=\"Open In Colab\"/></a>"
      ]
    },
    {
      "cell_type": "markdown",
      "metadata": {
        "id": "sL4SX80f5kaS",
        "colab_type": "text"
      },
      "source": [
        "![2 layer NN.png](data:image/png;base64,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)"
      ]
    },
    {
      "cell_type": "code",
      "metadata": {
        "id": "Xkvl1s7Bh1_3",
        "colab_type": "code",
        "colab": {}
      },
      "source": [
        "import numpy as np\n",
        "import matplotlib.pyplot as plt\n",
        "import pandas as pd"
      ],
      "execution_count": null,
      "outputs": []
    },
    {
      "cell_type": "code",
      "metadata": {
        "id": "fKnhtaVoiwxt",
        "colab_type": "code",
        "colab": {}
      },
      "source": [
        "df = pd.DataFrame(pd.read_csv('/content/sample_data/XOR.csv'))\n",
        "df"
      ],
      "execution_count": null,
      "outputs": []
    },
    {
      "cell_type": "code",
      "metadata": {
        "id": "s90_pU7yk0lf",
        "colab_type": "code",
        "colab": {}
      },
      "source": [
        "X_input = df[['x1','x2']]\n",
        "Y_output = df[['y']]"
      ],
      "execution_count": null,
      "outputs": []
    },
    {
      "cell_type": "code",
      "metadata": {
        "id": "Dl0EhpQGn6Tb",
        "colab_type": "code",
        "colab": {}
      },
      "source": [
        "x = np.array(X_input).T\n",
        "y = np.array(Y_output).reshape(1,len(Y_output[['y']]))"
      ],
      "execution_count": null,
      "outputs": []
    },
    {
      "cell_type": "code",
      "metadata": {
        "id": "8DyyHNX4uNy5",
        "colab_type": "code",
        "colab": {}
      },
      "source": [
        "print('Shape of X : ', x.shape, '\\nShape of y : ', y.shape)"
      ],
      "execution_count": null,
      "outputs": []
    },
    {
      "cell_type": "code",
      "metadata": {
        "id": "AAo2Fo8PuOjT",
        "colab_type": "code",
        "colab": {}
      },
      "source": [
        "for i in range(len(y[0])):\n",
        "  if y[0,i] == 0:\n",
        "    plt.scatter(x[0,i], x[1,i], c= 'blue')\n",
        "  else:\n",
        "    plt.scatter(x[0,i], x[1,i], c= 'red')\n"
      ],
      "execution_count": null,
      "outputs": []
    },
    {
      "cell_type": "code",
      "metadata": {
        "id": "rV545d-C0hBl",
        "colab_type": "code",
        "colab": {}
      },
      "source": [
        "def initialization_parameters(x, y, num_node):\n",
        "  W1 = np.random.randn(num_node * x.shape[0]).reshape(num_node, x.shape[0]) * 0.01\n",
        "  b1 = np.zeros((num_node,1))\n",
        "\n",
        "  W2 = np.random.randn(y.shape[0],num_node) * 0.01\n",
        "  b2 = np.zeros((y.shape[0],1))\n",
        "\n",
        "  assert W1.shape == (num_node,x.shape[0])\n",
        "  assert b1.shape == (num_node, 1)\n",
        "\n",
        "  assert W2.shape == (y.shape[0], num_node)\n",
        "  assert b2.shape == (y.shape[0], 1)\n",
        "\n",
        "  return W1, b1, W2, b2\n",
        "\n",
        "def sigmoid(x):\n",
        "  return 1/(1+np.exp(-x))\n",
        "\n",
        "def relu(x):\n",
        "  return np.maximum(0,x)\n",
        "\n",
        "def reluDerivative(x):\n",
        "  return relu(x) / np.absolute(x)\n",
        "\n",
        "def forward_prop(x, y, W1, b1, W2, b2):\n",
        "  Z1 = np.dot(W1, x) + b1\n",
        "  A1 = relu(Z1)\n",
        "  Z2 = np.dot(W2, A1) + b2\n",
        "  A2 = sigmoid(Z2)\n",
        "\n",
        "  assert Z1.shape == (W1.shape[0], x.shape[1])\n",
        "  assert Z2.shape == (W2.shape[0], x.shape[1])\n",
        "  cache = {\n",
        "      'Z1' : Z1,\n",
        "      'A1' : A1,\n",
        "      'Z2' : Z2,\n",
        "      'A2' : A2\n",
        "  }\n",
        "  return A2, cache \n",
        "\n",
        "def cross_entropy_cost(y, A2):\n",
        "  m = y.shape[1]\n",
        "  \n",
        "  cross_entropy = np.multiply(np.log(A2), y) + np.multiply((1 - y), np.log(1 - A2))\n",
        "  cost = - np.sum(cross_entropy) / m \n",
        "\n",
        "  # Squeezing to avoid unnecessary dimensions \n",
        "  cost = np.squeeze(cost) \n",
        "  return cost \n",
        "\n",
        "def backward_prop(W1, b1, W2, b2, cache, learning_rate = 0.01):\n",
        "  m = y.shape[1]\n",
        "  \n",
        "  A1 = cache['A1']\n",
        "  A2 = cache['A2']\n",
        "  Z1 = cache['Z1']\n",
        "  \n",
        "  # Calculations of backward propagation: dW1, db1, dW2, db2\n",
        "  dZ2 = A2 - y\n",
        "  dW2 = (1 / m) * np.dot(dZ2, A1.T)\n",
        "  db2 = (1 / m) * np.sum(dZ2, axis = 1, keepdims = True)\n",
        "\n",
        "  dZ1 = np.multiply(np.dot(W2.T, dZ2), reluDerivative(Z1))\n",
        "  dW1 = (1 / m) * np.dot(dZ1, x.T)\n",
        "  db1 = (1 / m) * np.sum(dZ1 , axis = 1, keepdims = True)\n",
        "\n",
        "  # Updating parameters\n",
        "  W1 = W1 - learning_rate * dW1\n",
        "  b1 = b1 - learning_rate * db1\n",
        "  W2 = W2 - learning_rate * dW2\n",
        "  b2 = b2 - learning_rate * db2\n",
        "   \n",
        "  return W1, b1, W2, b2"
      ],
      "execution_count": null,
      "outputs": []
    },
    {
      "cell_type": "code",
      "metadata": {
        "id": "u344uCx1uZRn",
        "colab_type": "code",
        "colab": {}
      },
      "source": [
        "np.random.seed(0)\n",
        "W1, b1, W2, b2 = initialization_parameters(x, y, 20)\n",
        "\n",
        "for i in range(0, 10000):\n",
        "  A2, cache = forward_prop(x, y, W1, b1, W2, b2)\n",
        "\n",
        "  cost = cross_entropy_cost(y, A2)\n",
        "\n",
        "  W1, b1, W2, b2 = backward_prop(W1, b1, W2, b2, cache, learning_rate = 0.01)\n",
        "\n",
        "  if i % 1000 == 0:\n",
        "    print(\"Cost after iteration % i : % f\" %(i, cost))\n"
      ],
      "execution_count": null,
      "outputs": []
    }
  ]
}