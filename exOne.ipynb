{
  "nbformat": 4,
  "nbformat_minor": 0,
  "metadata": {
    "colab": {
      "name": "exOne.ipynb",
      "provenance": [],
      "private_outputs": true,
      "authorship_tag": "ABX9TyONFKgMHgD5x1BTKuhR9kJf",
      "include_colab_link": true
    },
    "kernelspec": {
      "name": "python3",
      "display_name": "Python 3"
    }
  },
  "cells": [
    {
      "cell_type": "markdown",
      "metadata": {
        "id": "view-in-github",
        "colab_type": "text"
      },
      "source": [
        "<a href=\"https://colab.research.google.com/github/tayfununal/hello-world/blob/master/exOne.ipynb\" target=\"_parent\"><img src=\"https://colab.research.google.com/assets/colab-badge.svg\" alt=\"Open In Colab\"/></a>"
      ]
    },
    {
      "cell_type": "markdown",
      "metadata": {
        "id": "x6tt0xFDp5Qx",
        "colab_type": "text"
      },
      "source": [
        "# Artificial Neural Networks With One Hidden Layer"
      ]
    },
    {
      "cell_type": "markdown",
      "metadata": {
        "id": "0Iy3tED5rOkX",
        "colab_type": "text"
      },
      "source": [
        "![ArtificialNeuralNetworksWithOneHiddenLayer.png](data:image/png;base64,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)"
      ]
    },
    {
      "cell_type": "code",
      "metadata": {
        "id": "Xkvl1s7Bh1_3",
        "colab_type": "code",
        "colab": {}
      },
      "source": [
        "import numpy as np\n",
        "import matplotlib.pyplot as plt\n",
        "import pandas as pd"
      ],
      "execution_count": null,
      "outputs": []
    },
    {
      "cell_type": "code",
      "metadata": {
        "id": "fKnhtaVoiwxt",
        "colab_type": "code",
        "colab": {}
      },
      "source": [
        "df = pd.DataFrame(pd.read_csv('/content/sample_data/XOR.csv'))\n",
        "df"
      ],
      "execution_count": null,
      "outputs": []
    },
    {
      "cell_type": "code",
      "metadata": {
        "id": "s90_pU7yk0lf",
        "colab_type": "code",
        "colab": {}
      },
      "source": [
        "X_input = df[['x1','x2']]\n",
        "Y_output = df[['y']]"
      ],
      "execution_count": null,
      "outputs": []
    },
    {
      "cell_type": "code",
      "metadata": {
        "id": "Dl0EhpQGn6Tb",
        "colab_type": "code",
        "colab": {}
      },
      "source": [
        "x = np.array(X_input).T\n",
        "y = np.array(Y_output).reshape(1,len(Y_output[['y']]))"
      ],
      "execution_count": null,
      "outputs": []
    },
    {
      "cell_type": "code",
      "metadata": {
        "id": "8DyyHNX4uNy5",
        "colab_type": "code",
        "colab": {}
      },
      "source": [
        "print('Shape of X : ', x.shape, '\\nShape of y : ', y.shape)"
      ],
      "execution_count": null,
      "outputs": []
    },
    {
      "cell_type": "code",
      "metadata": {
        "id": "AAo2Fo8PuOjT",
        "colab_type": "code",
        "colab": {}
      },
      "source": [
        "for i in range(len(y[0])):\n",
        "  if y[0,i] == 0:\n",
        "    plt.scatter(x[0,i], x[1,i], c= 'blue')\n",
        "  else:\n",
        "    plt.scatter(x[0,i], x[1,i], c= 'red')\n"
      ],
      "execution_count": null,
      "outputs": []
    },
    {
      "cell_type": "code",
      "metadata": {
        "id": "-Da_r2GhrfMu",
        "colab_type": "code",
        "colab": {}
      },
      "source": [
        "def initialization_parameters(x, y, num_node):\n",
        "  W1 = np.random.randn(num_node * x.shape[0]).reshape(num_node, x.shape[0]) * 0.01\n",
        "  b1 = np.zeros((num_node,1))\n",
        "\n",
        "  W2 = np.random.randn(y.shape[0],num_node) * 0.01\n",
        "  b2 = np.zeros((y.shape[0],1))\n",
        "\n",
        "  assert W1.shape == (num_node,x.shape[0])\n",
        "  assert b1.shape == (num_node, 1)\n",
        "\n",
        "  assert W2.shape == (y.shape[0], num_node)\n",
        "  assert b2.shape == (y.shape[0], 1)\n",
        "\n",
        "  return W1, b1, W2, b2"
      ],
      "execution_count": null,
      "outputs": []
    },
    {
      "cell_type": "code",
      "metadata": {
        "id": "_kLjYDwRrkdn",
        "colab_type": "code",
        "colab": {}
      },
      "source": [
        "def sigmoid(x):\n",
        "  return 1/(1+np.exp(-x))"
      ],
      "execution_count": null,
      "outputs": []
    },
    {
      "cell_type": "code",
      "metadata": {
        "id": "x3p3uGJorqct",
        "colab_type": "code",
        "colab": {}
      },
      "source": [
        "def relu(x):\n",
        "  return np.maximum(0,x)\n",
        "\n",
        "def reluDerivative(x):\n",
        "  return relu(x) / np.absolute(x)"
      ],
      "execution_count": null,
      "outputs": []
    },
    {
      "cell_type": "code",
      "metadata": {
        "id": "rR8KPMx7rurY",
        "colab_type": "code",
        "colab": {}
      },
      "source": [
        "def forward_prop(x, y, W1, b1, W2, b2):\n",
        "  Z1 = np.dot(W1, x) + b1\n",
        "  A1 = relu(Z1)\n",
        "  Z2 = np.dot(W2, A1) + b2\n",
        "  A2 = sigmoid(Z2)\n",
        "\n",
        "  assert Z1.shape == (W1.shape[0], x.shape[1])\n",
        "  assert Z2.shape == (W2.shape[0], x.shape[1])\n",
        "  cache = {\n",
        "      'Z1' : Z1,\n",
        "      'A1' : A1,\n",
        "      'Z2' : Z2,\n",
        "      'A2' : A2\n",
        "  }\n",
        "  return A2, cache "
      ],
      "execution_count": null,
      "outputs": []
    },
    {
      "cell_type": "code",
      "metadata": {
        "id": "MqOPmZmHryww",
        "colab_type": "code",
        "colab": {}
      },
      "source": [
        "def cross_entropy_cost(y, A2):\n",
        "  m = y.shape[1]\n",
        "  \n",
        "  cross_entropy = np.multiply(np.log(A2), y) + np.multiply((1 - y), np.log(1 - A2))\n",
        "  cost = - np.sum(cross_entropy) / m \n",
        "\n",
        "  # Squeezing to avoid unnecessary dimensions \n",
        "  cost = np.squeeze(cost) \n",
        "  return cost "
      ],
      "execution_count": null,
      "outputs": []
    },
    {
      "cell_type": "code",
      "metadata": {
        "id": "rV545d-C0hBl",
        "colab_type": "code",
        "colab": {}
      },
      "source": [
        "def backward_prop(W1, b1, W2, b2, cache, learning_rate = 0.01):\n",
        "  m = y.shape[1]\n",
        "  \n",
        "  A1 = cache['A1']\n",
        "  A2 = cache['A2']\n",
        "  Z1 = cache['Z1']\n",
        "  \n",
        "  # Calculations of backward propagation: dW1, db1, dW2, db2\n",
        "  dZ2 = A2 - y\n",
        "  dW2 = (1 / m) * np.dot(dZ2, A1.T)\n",
        "  db2 = (1 / m) * np.sum(dZ2, axis = 1, keepdims = True)\n",
        "\n",
        "  dZ1 = np.multiply(np.dot(W2.T, dZ2), reluDerivative(Z1))\n",
        "  dW1 = (1 / m) * np.dot(dZ1, x.T)\n",
        "  db1 = (1 / m) * np.sum(dZ1 , axis = 1, keepdims = True)\n",
        "\n",
        "  # Updating parameters\n",
        "  W1 = W1 - learning_rate * dW1\n",
        "  b1 = b1 - learning_rate * db1\n",
        "  W2 = W2 - learning_rate * dW2\n",
        "  b2 = b2 - learning_rate * db2\n",
        "   \n",
        "  return W1, b1, W2, b2"
      ],
      "execution_count": null,
      "outputs": []
    },
    {
      "cell_type": "code",
      "metadata": {
        "id": "u344uCx1uZRn",
        "colab_type": "code",
        "colab": {}
      },
      "source": [
        "np.random.seed(0)\n",
        "W1, b1, W2, b2 = initialization_parameters(x, y, 20)\n",
        "\n",
        "for i in range(0, 10000):\n",
        "  A2, cache = forward_prop(x, y, W1, b1, W2, b2)\n",
        "\n",
        "  cost = cross_entropy_cost(y, A2)\n",
        "\n",
        "  W1, b1, W2, b2 = backward_prop(W1, b1, W2, b2, cache, learning_rate = 0.01)\n",
        "\n",
        "  if i % 1000 == 0:\n",
        "    print(\"Cost after iteration % i : % f\" %(i, cost))\n"
      ],
      "execution_count": null,
      "outputs": []
    }
  ]
}