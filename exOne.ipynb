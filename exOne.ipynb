{
  "nbformat": 4,
  "nbformat_minor": 0,
  "metadata": {
    "colab": {
      "name": "exOne.ipynb",
      "provenance": [],
      "private_outputs": true,
      "toc_visible": true,
      "authorship_tag": "ABX9TyOn9VTraN78bZE2WiHdScMQ",
      "include_colab_link": true
    },
    "kernelspec": {
      "name": "python3",
      "display_name": "Python 3"
    }
  },
  "cells": [
    {
      "cell_type": "markdown",
      "metadata": {
        "id": "view-in-github",
        "colab_type": "text"
      },
      "source": [
        "<a href=\"https://colab.research.google.com/github/tayfununal/hello-world/blob/master/exOne.ipynb\" target=\"_parent\"><img src=\"https://colab.research.google.com/assets/colab-badge.svg\" alt=\"Open In Colab\"/></a>"
      ]
    },
    {
      "cell_type": "code",
      "metadata": {
        "id": "Xkvl1s7Bh1_3",
        "colab_type": "code",
        "colab": {}
      },
      "source": [
        "import numpy as np\n",
        "import matplotlib.pyplot as plt\n",
        "import pandas as pd"
      ],
      "execution_count": null,
      "outputs": []
    },
    {
      "cell_type": "code",
      "metadata": {
        "id": "fKnhtaVoiwxt",
        "colab_type": "code",
        "colab": {}
      },
      "source": [
        "df = pd.DataFrame(pd.read_csv('/content/sample_data/XOR.csv'))"
      ],
      "execution_count": null,
      "outputs": []
    },
    {
      "cell_type": "code",
      "metadata": {
        "id": "s90_pU7yk0lf",
        "colab_type": "code",
        "colab": {}
      },
      "source": [
        "X_input = df[['x1','x2']]\n",
        "Y_output = df[['y']]"
      ],
      "execution_count": null,
      "outputs": []
    },
    {
      "cell_type": "code",
      "metadata": {
        "id": "Dl0EhpQGn6Tb",
        "colab_type": "code",
        "colab": {}
      },
      "source": [
        "x = np.array(X_input).T\n",
        "y = np.array(Y_output).reshape(1,len(Y_output[['y']]))"
      ],
      "execution_count": null,
      "outputs": []
    },
    {
      "cell_type": "code",
      "metadata": {
        "id": "8DyyHNX4uNy5",
        "colab_type": "code",
        "colab": {}
      },
      "source": [
        "print('Shape of X : ', x.shape, '\\nShape of y : ', y.shape)"
      ],
      "execution_count": null,
      "outputs": []
    },
    {
      "cell_type": "code",
      "metadata": {
        "id": "AAo2Fo8PuOjT",
        "colab_type": "code",
        "colab": {}
      },
      "source": [
        "for i in range(len(y[0])):\n",
        "  if y[0,i] == 0:\n",
        "    plt.scatter(x[0,i], x[1,i], c= 'blue')\n",
        "  else:\n",
        "    plt.scatter(x[0,i], x[1,i], c= 'red')\n"
      ],
      "execution_count": null,
      "outputs": []
    },
    {
      "cell_type": "code",
      "metadata": {
        "id": "rV545d-C0hBl",
        "colab_type": "code",
        "colab": {}
      },
      "source": [
        "def initialization_parameters(x, y, num_node):\n",
        "  W1 = np.random.randn(num_node * x.shape[0]).reshape(num_node, x.shape[0])\n",
        "  b1 = np.zeros((num_node,1))\n",
        "\n",
        "  W2 = np.random.randn(y.shape[0],num_node)\n",
        "  b2 = np.zeros((y.shape[0],1))\n",
        "\n",
        "  assert W1.shape == (num_node,x.shape[0])\n",
        "  assert b1.shape == (num_node, 1)\n",
        "\n",
        "  assert W2.shape == (y.shape[0], num_node)\n",
        "  assert b2.shape == (y.shape[0], 1)\n",
        "\n",
        "  return W1, b1, W2, b2\n",
        "\n",
        "def sigmoid(x):\n",
        "  return 1/(1+np.exp(-x))\n",
        "\n",
        "def relu(x):\n",
        "  return np.maximum(0,x)\n",
        "\n",
        "def reluDerivative(x):\n",
        "  return relu(x) / np.absolute(x)\n",
        "\n",
        "def feed_forward_prop(x, y, W1, b1, W2, b2):\n",
        "  Z1 = np.dot(W1, x) + b1\n",
        "  A1 = relu(Z1)\n",
        "  Z2 = np.dot(W2,A1) + b2\n",
        "  A2 = sigmoid(Z2)\n",
        "\n",
        "  assert Z1.shape == (W1.shape[0], x.shape[1])\n",
        "  assert Z2.shape == (W2.shape[0], x.shape[1])\n",
        "  cache = {\n",
        "      'Z1' : Z1,\n",
        "      'A1' : A1,\n",
        "      'Z2' : Z2,\n",
        "      'A2' : A2\n",
        "  }\n",
        "  return A2, cache \n",
        "\n",
        "def cross_entropy_cost(y, A2):\n",
        "  m = y.shape[1]\n",
        "  \n",
        "  cross_entropy = np.multiply(np.log(A2), y) + np.multiply((1 - y), np.log(1 - A2))\n",
        "  cost = - np.sum(cross_entropy) / m \n",
        "\n",
        "  # Squeezing to avoid unnecessary dimensions \n",
        "  cost = np.squeeze(cost) \n",
        "  return cost \n",
        "\n",
        "def backward_prop(W1, W2, x, y):\n",
        "  m = y.shape[1]\n",
        "  \n",
        "  A1 = cache['A1']\n",
        "  A2 = cache['A2']\n",
        "  Z1 = cache['Z1']\n",
        "\n",
        "  dZ2 = A2 - y\n",
        "  dW2 = (1 / m) * np.dot(dZ2, A1.T)\n",
        "  db2 = (1 / m) * np.sum(dZ2, axis = 1, keepdims = True)\n",
        "\n",
        "  dZ1 = (1 / m) *  np.multiply(np.dot(W2.T, dZ2), reluDerivative(Z1))\n",
        "\n",
        "\n",
        "   \n",
        "  return dZ1"
      ],
      "execution_count": null,
      "outputs": []
    },
    {
      "cell_type": "code",
      "metadata": {
        "id": "RH1HingY70jB",
        "colab_type": "code",
        "colab": {}
      },
      "source": [
        "w1,b1,w2,b2=initialization_parameters(x,y,7)"
      ],
      "execution_count": null,
      "outputs": []
    },
    {
      "cell_type": "code",
      "metadata": {
        "id": "wOFk6U_7koFY",
        "colab_type": "code",
        "colab": {}
      },
      "source": [
        "A2, cache = feed_forward_prop(x,y,w1,b1,w2,b2)\n",
        "cross_entropy_cost(y,A2)\n",
        "\n",
        "backward_prop(w1,w2,x,y).shape"
      ],
      "execution_count": null,
      "outputs": []
    },
    {
      "cell_type": "code",
      "metadata": {
        "id": "gvImuRYcTqai",
        "colab_type": "code",
        "colab": {}
      },
      "source": [
        ""
      ],
      "execution_count": null,
      "outputs": []
    }
  ]
}