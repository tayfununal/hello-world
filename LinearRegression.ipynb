{
  "nbformat": 4,
  "nbformat_minor": 0,
  "metadata": {
    "colab": {
      "name": "LinearRegression.ipynb",
      "provenance": [],
      "private_outputs": true,
      "authorship_tag": "ABX9TyN3dnWj+/MM/Aq+eE9Hv4QO",
      "include_colab_link": true
    },
    "kernelspec": {
      "name": "python3",
      "display_name": "Python 3"
    }
  },
  "cells": [
    {
      "cell_type": "markdown",
      "metadata": {
        "id": "view-in-github",
        "colab_type": "text"
      },
      "source": [
        "<a href=\"https://colab.research.google.com/github/tayfununal/hello-world/blob/master/LinearRegression.ipynb\" target=\"_parent\"><img src=\"https://colab.research.google.com/assets/colab-badge.svg\" alt=\"Open In Colab\"/></a>"
      ]
    },
    {
      "cell_type": "code",
      "metadata": {
        "id": "5vvfqtbC3RWl",
        "colab_type": "code",
        "colab": {}
      },
      "source": [
        "!pip install playground-data"
      ],
      "execution_count": null,
      "outputs": []
    },
    {
      "cell_type": "code",
      "metadata": {
        "id": "xP36bBkV-A6c",
        "colab_type": "code",
        "colab": {}
      },
      "source": [
        "import numpy as np\n",
        "import matplotlib.pyplot as plt\n",
        "import pandas as pd\n",
        "import plygdata as pg"
      ],
      "execution_count": null,
      "outputs": []
    },
    {
      "cell_type": "code",
      "metadata": {
        "id": "Zv-zFULz3lK7",
        "colab_type": "code",
        "colab": {}
      },
      "source": [
        "raw_data = pg.generate_data(pg.DatasetType.ClassifyTwoGaussData, noise = 0.3)"
      ],
      "execution_count": null,
      "outputs": []
    },
    {
      "cell_type": "code",
      "metadata": {
        "id": "TRtvWXy84F-7",
        "colab_type": "code",
        "colab": {}
      },
      "source": [
        "df = pd.DataFrame(raw_data, columns = ['x1', 'x2', 'y'])\n",
        "\n",
        "x = df[['x1','x2']]\n",
        "y = df[['y']]"
      ],
      "execution_count": null,
      "outputs": []
    },
    {
      "cell_type": "code",
      "metadata": {
        "id": "g_DttvGW598T",
        "colab_type": "code",
        "colab": {}
      },
      "source": [
        "X = np.array(x).T\n",
        "Y = np.array(y).T"
      ],
      "execution_count": null,
      "outputs": []
    },
    {
      "cell_type": "code",
      "metadata": {
        "id": "h-V0VnRcAFBc",
        "colab_type": "code",
        "colab": {}
      },
      "source": [
        "for i in range(X.shape[1]):\n",
        "  if Y[0,i] == 1:\n",
        "    plt.scatter(X[0,i], X[1,i], c = 'red')\n",
        "  else:\n",
        "    plt.scatter(X[0,i], X[1,i], c = 'blue')"
      ],
      "execution_count": null,
      "outputs": []
    },
    {
      "cell_type": "code",
      "metadata": {
        "id": "Ij-_06bKAcbK",
        "colab_type": "code",
        "colab": {}
      },
      "source": [
        ""
      ],
      "execution_count": null,
      "outputs": []
    }
  ]
}