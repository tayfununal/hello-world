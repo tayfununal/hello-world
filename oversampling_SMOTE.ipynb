{
  "nbformat": 4,
  "nbformat_minor": 0,
  "metadata": {
    "colab": {
      "name": "oversampling_SMOTE.ipynb",
      "private_outputs": true,
      "provenance": [],
      "authorship_tag": "ABX9TyMutkPMfVJPkP0QfUNtNmVN",
      "include_colab_link": true
    },
    "kernelspec": {
      "name": "python3",
      "display_name": "Python 3"
    },
    "language_info": {
      "name": "python"
    }
  },
  "cells": [
    {
      "cell_type": "markdown",
      "metadata": {
        "id": "view-in-github",
        "colab_type": "text"
      },
      "source": [
        "<a href=\"https://colab.research.google.com/github/tayfununal/hello-world/blob/master/oversampling_SMOTE.ipynb\" target=\"_parent\"><img src=\"https://colab.research.google.com/assets/colab-badge.svg\" alt=\"Open In Colab\"/></a>"
      ]
    },
    {
      "cell_type": "code",
      "execution_count": null,
      "metadata": {
        "id": "xAyM7BdZRWZh"
      },
      "outputs": [],
      "source": [
        "!pip install imbalanced-learn"
      ]
    },
    {
      "cell_type": "code",
      "source": [
        "# check version number\n",
        "import imblearn\n",
        "print(imblearn.__version__)"
      ],
      "metadata": {
        "id": "bGvwgJ7WRX1U"
      },
      "execution_count": null,
      "outputs": []
    },
    {
      "cell_type": "code",
      "source": [
        "import pandas as pd\n",
        "import matplotlib.pyplot as plt\n",
        "import numpy as np"
      ],
      "metadata": {
        "id": "rS42UiyfR_Eq"
      },
      "execution_count": null,
      "outputs": []
    },
    {
      "cell_type": "code",
      "source": [
        "df = pd.read_csv('/content/explicit_max_kebos.csv')"
      ],
      "metadata": {
        "id": "mv4hZA6USA8L"
      },
      "execution_count": null,
      "outputs": []
    },
    {
      "cell_type": "code",
      "source": [
        "df[df['memnun']==1]"
      ],
      "metadata": {
        "id": "V59Ol1egSHz6"
      },
      "execution_count": null,
      "outputs": []
    },
    {
      "cell_type": "code",
      "source": [
        "df['memnun'][df['memnun']==5]=2"
      ],
      "metadata": {
        "id": "yXKj2or7minU"
      },
      "execution_count": null,
      "outputs": []
    },
    {
      "cell_type": "code",
      "source": [
        "df[df['memnun'] ==0]"
      ],
      "metadata": {
        "id": "v-C2yczwms3K"
      },
      "execution_count": null,
      "outputs": []
    },
    {
      "cell_type": "code",
      "source": [
        "X = np.array(df[['kebos','kelime_miktar' ,'sure', 'ziyaret_miktar']])\n",
        "y = np.array(df[['memnun']])"
      ],
      "metadata": {
        "id": "fnnApk9aSIsS"
      },
      "execution_count": null,
      "outputs": []
    },
    {
      "cell_type": "code",
      "source": [
        "# scatter plot of examples by class label\n",
        "for label in [1,2,3,4,5]:\n",
        "\trow_ix = np.where(y == label)[0]\n",
        "plt.scatter(X[row_ix, 2], X[row_ix, 3], label=str(label))\n",
        "plt.legend()\n",
        "plt.show()"
      ],
      "metadata": {
        "id": "tj_kmBq_S89i"
      },
      "execution_count": null,
      "outputs": []
    },
    {
      "cell_type": "code",
      "source": [
        "from imblearn.over_sampling import SMOTE"
      ],
      "metadata": {
        "id": "5g_kpUUZT1Ry"
      },
      "execution_count": null,
      "outputs": []
    },
    {
      "cell_type": "code",
      "source": [
        "oversample = SMOTE()\n",
        "X, y = oversample.fit_resample(X, y)"
      ],
      "metadata": {
        "id": "8aznfdHdYvww"
      },
      "execution_count": null,
      "outputs": []
    },
    {
      "cell_type": "code",
      "source": [
        "y.shape"
      ],
      "metadata": {
        "id": "BsagMS64Y1Lh"
      },
      "execution_count": null,
      "outputs": []
    },
    {
      "cell_type": "code",
      "source": [
        "# scatter plot of examples by class label\n",
        "for label in [0,1,2]:\n",
        "\trow_ix = np.where(y == label)[0]\n",
        "plt.scatter(X[row_ix, 1], X[row_ix, 3], label=str(label))\n",
        "plt.legend()\n",
        "plt.show()"
      ],
      "metadata": {
        "id": "swbfghlqY1Nn"
      },
      "execution_count": null,
      "outputs": []
    },
    {
      "cell_type": "code",
      "source": [
        "data1 = pd.DataFrame(X,columns=['kebos','kelime_miktar' ,'sure', 'ziyaret_miktar'])"
      ],
      "metadata": {
        "id": "aFl-U9boZRj3"
      },
      "execution_count": null,
      "outputs": []
    },
    {
      "cell_type": "code",
      "source": [
        "data2 = pd.DataFrame(y,columns=['memnun'])"
      ],
      "metadata": {
        "id": "PBswlvGVaFNY"
      },
      "execution_count": null,
      "outputs": []
    },
    {
      "cell_type": "code",
      "source": [
        "data = pd.concat((data1,data2), axis=1)"
      ],
      "metadata": {
        "id": "_B2IcZTMap_w"
      },
      "execution_count": null,
      "outputs": []
    },
    {
      "cell_type": "code",
      "source": [
        "data"
      ],
      "metadata": {
        "id": "Fct6j-Zoa0Io"
      },
      "execution_count": null,
      "outputs": []
    },
    {
      "cell_type": "code",
      "source": [
        "data.to_csv('/content/explicit_max_yeni.csv')"
      ],
      "metadata": {
        "id": "2DDaDEEpbAFf"
      },
      "execution_count": null,
      "outputs": []
    },
    {
      "cell_type": "code",
      "source": [
        "''"
      ],
      "metadata": {
        "id": "zpwhR0zWbTM_"
      },
      "execution_count": null,
      "outputs": []
    }
  ]
}